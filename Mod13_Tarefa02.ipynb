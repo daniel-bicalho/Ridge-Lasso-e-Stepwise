{
 "cells": [
  {
   "cell_type": "markdown",
   "metadata": {},
   "source": [
    "# EBAC - Regressão II - regressão múltipla\n",
    "\n",
    "## Tarefa I"
   ]
  },
  {
   "cell_type": "markdown",
   "metadata": {},
   "source": [
    "#### Previsão de renda II\n",
    "\n",
    "Vamos continuar trabalhando com a base 'previsao_de_renda.csv', que é a base do seu próximo projeto. Vamos usar os recursos que vimos até aqui nesta base.\n",
    "\n",
    "|variavel|descrição|\n",
    "|-|-|\n",
    "|data_ref                | Data de referência de coleta das variáveis |\n",
    "|index                   | Código de identificação do cliente|\n",
    "|sexo                    | Sexo do cliente|\n",
    "|posse_de_veiculo        | Indica se o cliente possui veículo|\n",
    "|posse_de_imovel         | Indica se o cliente possui imóvel|\n",
    "|qtd_filhos              | Quantidade de filhos do cliente|\n",
    "|tipo_renda              | Tipo de renda do cliente|\n",
    "|educacao                | Grau de instrução do cliente|\n",
    "|estado_civil            | Estado civil do cliente|\n",
    "|tipo_residencia         | Tipo de residência do cliente (própria, alugada etc)|\n",
    "|idade                   | Idade do cliente|\n",
    "|tempo_emprego           | Tempo no emprego atual|\n",
    "|qt_pessoas_residencia   | Quantidade de pessoas que moram na residência|\n",
    "|renda                   | Renda em reais|"
   ]
  },
  {
   "cell_type": "code",
   "execution_count": 1,
   "metadata": {},
   "outputs": [],
   "source": [
    "import pandas as pd\n",
    "import numpy as np\n",
    "\n",
    "import seaborn as sns\n",
    "import matplotlib.pyplot as plt\n",
    "\n",
    "import statsmodels.formula.api as smf\n",
    "import statsmodels.api as sm\n",
    "\n",
    "import patsy\n",
    "from sklearn.model_selection import train_test_split\n",
    "from sklearn.linear_model import Ridge\n",
    "from sklearn.model_selection import GridSearchCV\n",
    "from sklearn.preprocessing import StandardScaler, LabelEncoder\n",
    "from sklearn.linear_model import Lasso\n",
    "from sklearn.metrics import r2_score\n",
    "from sklearn.pipeline import Pipeline\n",
    "from sklearn.linear_model import RidgeCV\n",
    "%matplotlib inline"
   ]
  },
  {
   "cell_type": "code",
   "execution_count": 2,
   "metadata": {},
   "outputs": [],
   "source": [
    "# Carregar os dados\n",
    "df = pd.read_csv('previsao_de_renda.csv')"
   ]
  },
  {
   "cell_type": "code",
   "execution_count": 3,
   "metadata": {},
   "outputs": [
    {
     "name": "stdout",
     "output_type": "stream",
     "text": [
      "<class 'pandas.core.frame.DataFrame'>\n",
      "RangeIndex: 15000 entries, 0 to 14999\n",
      "Data columns (total 16 columns):\n",
      " #   Column                 Non-Null Count  Dtype  \n",
      "---  ------                 --------------  -----  \n",
      " 0   Unnamed: 0             15000 non-null  int64  \n",
      " 1   data_ref               15000 non-null  object \n",
      " 2   index                  15000 non-null  int64  \n",
      " 3   sexo                   15000 non-null  object \n",
      " 4   posse_de_veiculo       15000 non-null  bool   \n",
      " 5   posse_de_imovel        15000 non-null  bool   \n",
      " 6   qtd_filhos             15000 non-null  int64  \n",
      " 7   tipo_renda             15000 non-null  object \n",
      " 8   educacao               15000 non-null  object \n",
      " 9   estado_civil           15000 non-null  object \n",
      " 10  tipo_residencia        15000 non-null  object \n",
      " 11  idade                  15000 non-null  int64  \n",
      " 12  tempo_emprego          12466 non-null  float64\n",
      " 13  qt_pessoas_residencia  15000 non-null  float64\n",
      " 14  mau                    15000 non-null  bool   \n",
      " 15  renda                  15000 non-null  float64\n",
      "dtypes: bool(3), float64(3), int64(4), object(6)\n",
      "memory usage: 1.5+ MB\n"
     ]
    }
   ],
   "source": [
    "df.info()"
   ]
  },
  {
   "cell_type": "markdown",
   "metadata": {},
   "source": [
    "1. Separe a base em treinamento e teste (25% para teste, 75% para treinamento).\n",
    "2. Rode uma regularização *ridge* com alpha = [0, 0.001, 0.005, 0.01, 0.05, 0.1] e avalie o $R^2$ na base de testes. Qual o melhor modelo?\n",
    "3. Faça o mesmo que no passo 2, com uma regressão *LASSO*. Qual método chega a um melhor resultado?\n",
    "4. Rode um modelo *stepwise*. Avalie o $R^2$ na vase de testes. Qual o melhor resultado?\n",
    "5. Compare os parâmetros e avalie eventuais diferenças. Qual modelo você acha o melhor de todos?\n",
    "6. Partindo dos modelos que você ajustou, tente melhorar o $R^2$ na base de testes. Use a criatividade, veja se consegue inserir alguma transformação ou combinação de variáveis.\n",
    "7. Ajuste uma árvore de regressão e veja se consegue um $R^2$ melhor com ela."
   ]
  },
  {
   "cell_type": "code",
   "execution_count": 4,
   "metadata": {},
   "outputs": [],
   "source": [
    "# Tratando os dados\n",
    "# 1. retirando colunas desnecessarias\n",
    "df = df.drop(columns=['data_ref'])"
   ]
  },
  {
   "cell_type": "code",
   "execution_count": 5,
   "metadata": {},
   "outputs": [],
   "source": [
    "# 2. Tratar variáveis categóricas com One-Hot Encoding\n",
    "df = pd.get_dummies(df, columns=['sexo', 'tipo_renda','educacao', 'estado_civil', 'tipo_residencia'], drop_first=True)"
   ]
  },
  {
   "cell_type": "code",
   "execution_count": 6,
   "metadata": {},
   "outputs": [],
   "source": [
    "# 3. Tratar variáveis booleanas (converter para 0 e 1)\n",
    "df['posse_de_veiculo'] = df['posse_de_veiculo'].astype(int)\n",
    "df['posse_de_imovel'] = df['posse_de_imovel'].astype(int)\n",
    "df['mau'] = df['mau'].astype(int)"
   ]
  },
  {
   "cell_type": "code",
   "execution_count": 7,
   "metadata": {},
   "outputs": [],
   "source": [
    "# 4. Tratar valores ausentes (NaN) na variável 'tempo_emprego', Preenchendo valores ausentes com a mediana da coluna\n",
    "df['tempo_emprego'] = df['tempo_emprego'].fillna(df['tempo_emprego'].median())\n"
   ]
  },
  {
   "cell_type": "code",
   "execution_count": 8,
   "metadata": {},
   "outputs": [
    {
     "name": "stdout",
     "output_type": "stream",
     "text": [
      "Tamanho do conjunto de treinamento: 11250 amostras\n",
      "Tamanho do conjunto de teste: 3750 amostras\n"
     ]
    }
   ],
   "source": [
    "# Separando a base de dados\n",
    "X = df.drop(columns=['renda', 'index'], axis=1)  \n",
    "y = df['renda']               \n",
    "\n",
    "# Separando em 75% treinamento e 25% teste\n",
    "X_train, X_test, y_train, y_test = train_test_split(X, y, test_size=0.25, random_state=42)\n",
    "\n",
    "# Exibindo os tamanhos dos conjuntos\n",
    "print(f'Tamanho do conjunto de treinamento: {X_train.shape[0]} amostras')\n",
    "print(f'Tamanho do conjunto de teste: {X_test.shape[0]} amostras')"
   ]
  },
  {
   "cell_type": "code",
   "execution_count": 9,
   "metadata": {},
   "outputs": [
    {
     "name": "stdout",
     "output_type": "stream",
     "text": [
      "Melhor valor de alpha: 0.1\n",
      "Melhor score: 0.20591057506847793\n",
      "Melhor ridge: Ridge(alpha=0.1)\n"
     ]
    }
   ],
   "source": [
    "# regularização ridge com alpha = [0, 0.001, 0.005, 0.01, 0.05, 0.1] \n",
    "\n",
    "# Definindo o intervalo de valores para alpha\n",
    "alphas = np.array([0, 0.001, 0.005, 0.01, 0.05, 0.1])\n",
    "\n",
    "# Criando o modelo Ridge\n",
    "ridge = Ridge()\n",
    "\n",
    "# Configurando a busca em grade (GridSearch) para encontrar o melhor valor de alpha\n",
    "param_grid = {'alpha': alphas}\n",
    "grid_search = GridSearchCV(ridge, param_grid, cv=5)  # cv=5 para 5-fold cross-validation\n",
    "\n",
    "# Ajustando o modelo com os dados de treino (X_train, y_train)\n",
    "grid_search.fit(X_train, y_train)\n",
    "\n",
    "# Imprimindo o melhor valor de alpha encontrado\n",
    "print(f'Melhor valor de alpha: {grid_search.best_params_[\"alpha\"]}')\n",
    "print(f'Melhor score: {grid_search.best_score_}')\n",
    "best_ridge = grid_search.best_estimator_\n",
    "print(f'Melhor ridge: {grid_search.best_estimator_}')"
   ]
  },
  {
   "cell_type": "code",
   "execution_count": 10,
   "metadata": {},
   "outputs": [
    {
     "name": "stdout",
     "output_type": "stream",
     "text": [
      "Melhor valor de alpha: 0.1\n",
      "Melhor score: 0.20591305726193596\n",
      "Melhor ridge: Lasso(alpha=0.1, max_iter=10000)\n"
     ]
    }
   ],
   "source": [
    "# regressão LASSO\n",
    "\n",
    "# Remover alpha=0 do intervalo\n",
    "alphas = np.array([0.001, 0.005, 0.01, 0.05, 0.1])\n",
    "\n",
    "# Criando o modelo Lasso\n",
    "lasso = Lasso(max_iter=10000)  # Aumentando o número de iterações\n",
    "\n",
    "# Escalonando os dados\n",
    "scaler = StandardScaler()\n",
    "X_train_scaled = scaler.fit_transform(X_train)\n",
    "\n",
    "# Configurando a busca em grade (GridSearch) para encontrar o melhor valor de alpha\n",
    "param_grid = {'alpha': alphas}\n",
    "grid_search = GridSearchCV(lasso, param_grid, cv=5)  # cv=5 para 5-fold cross-validation\n",
    "\n",
    "# Ajustando o modelo com os dados escalonados\n",
    "grid_search.fit(X_train_scaled, y_train)\n",
    "\n",
    "# Imprimindo o melhor valor de alpha encontrado\n",
    "print(f'Melhor valor de alpha: {grid_search.best_params_[\"alpha\"]}')\n",
    "print(f'Melhor score: {grid_search.best_score_}')\n",
    "best_ridge = grid_search.best_estimator_\n",
    "print(f'Melhor ridge: {grid_search.best_estimator_}')\n"
   ]
  },
  {
   "cell_type": "code",
   "execution_count": 11,
   "metadata": {},
   "outputs": [
    {
     "data": {
      "image/png": "[encoded data removed]",
      "text/plain": [
       "<Figure size 800x600 with 1 Axes>"
      ]
     },
     "metadata": {},
     "output_type": "display_data"
    },
    {
     "name": "stdout",
     "output_type": "stream",
     "text": [
      "Ridge -> Melhor alpha: 0.1  | Score: 0.2058972193239232\n",
      "Lasso -> Melhor alpha: 0.1  | Score: 0.2059130275474649\n"
     ]
    }
   ],
   "source": [
    "# Comparando modelos Ridge e Lasso:\n",
    "\n",
    "# Intervalo de alphas\n",
    "alphas_ridge = np.array([0, 0.001, 0.005, 0.01, 0.05, 0.1])\n",
    "alphas_lasso = np.array([0.001, 0.005, 0.01, 0.05, 0.1])\n",
    "\n",
    "# --- Ridge ---\n",
    "pipeline_ridge = Pipeline([\n",
    "    ('scaler', StandardScaler()),\n",
    "    ('ridge', Ridge())\n",
    "])\n",
    "param_grid_ridge = {'ridge__alpha': alphas_ridge}\n",
    "grid_ridge = GridSearchCV(pipeline_ridge, param_grid_ridge, cv=5, scoring='r2', return_train_score=True)\n",
    "grid_ridge.fit(X_train, y_train)\n",
    "\n",
    "# --- Lasso ---\n",
    "pipeline_lasso = Pipeline([\n",
    "    ('scaler', StandardScaler()),\n",
    "    ('lasso', Lasso(max_iter=10000))\n",
    "])\n",
    "param_grid_lasso = {'lasso__alpha': alphas_lasso}\n",
    "grid_lasso = GridSearchCV(pipeline_lasso, param_grid_lasso, cv=5, scoring='r2', return_train_score=True)\n",
    "grid_lasso.fit(X_train, y_train)\n",
    "\n",
    "# Resultados\n",
    "mean_scores_ridge = grid_ridge.cv_results_['mean_test_score']\n",
    "mean_scores_lasso = grid_lasso.cv_results_['mean_test_score']\n",
    "\n",
    "# Plot comparativo\n",
    "plt.figure(figsize=(8,6))\n",
    "plt.plot(alphas_ridge, mean_scores_ridge, marker='o', label='Ridge')\n",
    "plt.plot(alphas_lasso, mean_scores_lasso, marker='s', label='Lasso')\n",
    "plt.xscale('log')  # escala logarítmica ajuda a visualizar\n",
    "plt.xlabel('Alpha')\n",
    "plt.ylabel('R² médio (validação cruzada)')\n",
    "plt.title('Comparativo Ridge vs Lasso')\n",
    "plt.legend()\n",
    "plt.grid(True)\n",
    "plt.show()\n",
    "\n",
    "# Melhor alpha e score\n",
    "print(\"Ridge -> Melhor alpha:\", grid_ridge.best_params_['ridge__alpha'], \n",
    "      \" | Score:\", grid_ridge.best_score_)\n",
    "print(\"Lasso -> Melhor alpha:\", grid_lasso.best_params_['lasso__alpha'], \n",
    "      \" | Score:\", grid_lasso.best_score_)"
   ]
  },
  {
   "cell_type": "markdown",
   "metadata": {},
   "source": [
    "A diferença entre eles é de 0.0000158, ou seja, absolutamente irrelevante do ponto de vista prático. \n",
    "Os dois modelos têm praticamente o mesmo poder preditivo nos seus dados."
   ]
  },
  {
   "cell_type": "code",
   "execution_count": 12,
   "metadata": {},
   "outputs": [],
   "source": [
    "# Stepwise\n",
    "\n",
    "# Preenchendo NaNs e convertendo para float\n",
    "X = X.astype(float).fillna(X.mean())\n",
    "y = y.astype(float).fillna(y.mean())\n",
    "\n",
    "# Se houver categóricas:\n",
    "X = pd.get_dummies(X, drop_first=True)"
   ]
  },
  {
   "cell_type": "code",
   "execution_count": 13,
   "metadata": {},
   "outputs": [
    {
     "name": "stdout",
     "output_type": "stream",
     "text": [
      "Adicionando tempo_emprego com p-valor 0.0000\n",
      "Adicionando sexo_M com p-valor 0.0000\n",
      "Adicionando tipo_renda_Empresário com p-valor 0.0000\n",
      "Adicionando educacao_Superior completo com p-valor 0.0000\n",
      "Adicionando posse_de_imovel com p-valor 0.0000\n",
      "Adicionando idade com p-valor 0.0000\n",
      "Adicionando tipo_renda_Servidor público com p-valor 0.0000\n",
      "Adicionando tipo_renda_Pensionista com p-valor 0.0008\n",
      "Adicionando educacao_Pós graduação com p-valor 0.0035\n",
      "Adicionando tipo_residencia_Governamental com p-valor 0.0494\n",
      "\n",
      "Variáveis selecionadas: ['tempo_emprego', 'sexo_M', 'tipo_renda_Empresário', 'educacao_Superior completo', 'posse_de_imovel', 'idade', 'tipo_renda_Servidor público', 'tipo_renda_Pensionista', 'educacao_Pós graduação', 'tipo_residencia_Governamental']\n",
      "R² no conjunto de teste: 0.22858036925945535\n"
     ]
    }
   ],
   "source": [
    "# Função para adicionar uma constante ao modelo (intercepto)\n",
    "def add_constant(X):\n",
    "    return sm.add_constant(X)\n",
    "\n",
    "# Stepwise otimizado (forward + backward)\n",
    "def stepwise_selection_fast(X, y, threshold_in=0.05, threshold_out=0.1, verbose=True):\n",
    "    included = []\n",
    "    remaining = list(X.columns)\n",
    "    \n",
    "    while True:\n",
    "        changed = False\n",
    "        \n",
    "        # --- Forward step ---\n",
    "        if remaining:\n",
    "            # Ajusta modelo com cada feature restante de forma vetorizada\n",
    "            pvals = pd.Series(index=remaining, dtype=float)\n",
    "            for feature in remaining:\n",
    "                model = sm.OLS(y, add_constant(X[included + [feature]])).fit()\n",
    "                pvals[feature] = model.pvalues[feature]\n",
    "            \n",
    "            best_pval = pvals.min()\n",
    "            if best_pval < threshold_in:\n",
    "                best_feature = pvals.idxmin()\n",
    "                included.append(best_feature)\n",
    "                remaining.remove(best_feature)\n",
    "                changed = True\n",
    "                if verbose:\n",
    "                    print(f\"Adicionando {best_feature} com p-valor {best_pval:.4f}\")\n",
    "        \n",
    "        # --- Backward step ---\n",
    "        if included:\n",
    "            model = sm.OLS(y, add_constant(X[included])).fit()\n",
    "            pvalues = model.pvalues.drop(\"const\")\n",
    "            worst_pval = pvalues.max()\n",
    "            if worst_pval > threshold_out:\n",
    "                worst_feature = pvalues.idxmax()\n",
    "                included.remove(worst_feature)\n",
    "                remaining.append(worst_feature)\n",
    "                changed = True\n",
    "                if verbose:\n",
    "                    print(f\"Removendo {worst_feature} com p-valor {worst_pval:.4f}\")\n",
    "        \n",
    "        # Se não houver mudanças, encerra\n",
    "        if not changed:\n",
    "            break\n",
    "    \n",
    "    return included\n",
    "\n",
    "\n",
    "# Dividindo em treino e teste\n",
    "X_train, X_test, y_train, y_test = train_test_split(\n",
    "    X, y, test_size=0.2, random_state=42\n",
    ")\n",
    "\n",
    "# Aplicando Stepwise \n",
    "best_features = stepwise_selection_fast(X_train, y_train, threshold_in=0.05, threshold_out=0.1, verbose=True)\n",
    "print(\"\\nVariáveis selecionadas:\", best_features)\n",
    "\n",
    "# Ajustando um modelo final\n",
    "X_train_best = add_constant(X_train[best_features])\n",
    "model = sm.OLS(y_train, X_train_best).fit()\n",
    "\n",
    "X_test_best = add_constant(X_test[best_features])\n",
    "y_pred = model.predict(X_test_best)\n",
    "\n",
    "# Avaliar desempenho\n",
    "r2 = r2_score(y_test, y_pred)\n",
    "print(\"R² no conjunto de teste:\", r2)\n"
   ]
  },
  {
   "cell_type": "markdown",
   "metadata": {},
   "source": [
    "O conjunto indica que o modelo consegue explicar cerca de 22,8% da variabilidade da variável alvo com as variáveis selecionadas pelo stepwise. R² no conjunto de teste: 0.22858036925945535\n",
    "Ele foi oque obteve o melhor resultado nos conjuntos de teste.\n"
   ]
  },
  {
   "cell_type": "code",
   "execution_count": 14,
   "metadata": {},
   "outputs": [
    {
     "name": "stdout",
     "output_type": "stream",
     "text": [
      "Variáveis selecionadas: ['tempo_emprego', 'sexo_M', 'tipo_renda_Empresário', 'educacao_Superior completo', 'posse_de_imovel', 'idade', 'tipo_renda_Servidor público', 'tipo_renda_Pensionista', 'educacao_Pós graduação', 'tipo_residencia_Governamental']\n",
      "R² no conjunto de teste: 0.22858036925945535\n"
     ]
    }
   ],
   "source": [
    "# Modelo final com as variáveis selecionadas\n",
    "X_train_best = X_train[best_features]\n",
    "X_test_best = X_test[best_features]\n",
    "\n",
    "# Ajustando o modelo OLS final\n",
    "X_train_const = add_constant(X_train_best)\n",
    "model = sm.OLS(y_train, X_train_const).fit()\n",
    "\n",
    "# Avaliando o modelo nos dados de teste\n",
    "X_test_const = add_constant(X_test_best)\n",
    "y_pred = model.predict(X_test_const)\n",
    "r2 = r2_score(y_test, y_pred)\n",
    "\n",
    "# Exibindo o resultado final\n",
    "print(f'Variáveis selecionadas: {best_features}')\n",
    "print(f'R² no conjunto de teste: {r2}')\n"
   ]
  },
  {
   "cell_type": "code",
   "execution_count": 15,
   "metadata": {},
   "outputs": [
    {
     "name": "stdout",
     "output_type": "stream",
     "text": [
      "Add  tempo_emprego                  with p-value 0.0\n",
      "Add  sexo_M                         with p-value 8.88722e-208\n",
      "Add  tipo_renda_Empresário          with p-value 2.74091e-35\n",
      "Add  educacao_Superior completo     with p-value 1.07778e-15\n",
      "Add  posse_de_imovel                with p-value 5.9332e-10\n",
      "Add  idade                          with p-value 1.32972e-06\n",
      "Add  tipo_renda_Pensionista         with p-value 4.02303e-05\n",
      "Add  tipo_renda_Servidor público    with p-value 0.000657204\n",
      "Add  educacao_Pós graduação         with p-value 0.00827478\n",
      "Add  tipo_residencia_Casa           with p-value 0.00986853\n",
      "resulting features:\n",
      "['tempo_emprego', 'sexo_M', 'tipo_renda_Empresário', 'educacao_Superior completo', 'posse_de_imovel', 'idade', 'tipo_renda_Pensionista', 'tipo_renda_Servidor público', 'educacao_Pós graduação', 'tipo_residencia_Casa']\n"
     ]
    }
   ],
   "source": [
    "\n",
    "# Garantindo que todas as colunas de X sejam do tipo float\n",
    "X = X.astype(float)\n",
    "\n",
    "# Garantindo que y seja do tipo float\n",
    "y = y.astype(float)\n",
    "\n",
    "# Função de seleção stepwise\n",
    "def stepwise_selection(X, y,\n",
    "                       initial_list=[],\n",
    "                       threshold_in=0.05,\n",
    "                       threshold_out=0.05,\n",
    "                       verbose=True):\n",
    "    \"\"\" Perform a forward-backward feature selection\n",
    "    based on p-value from statsmodels.api.OLS\n",
    "    Arguments:\n",
    "        X - pandas.DataFrame with candidate features\n",
    "        y - list-like with the target\n",
    "        initial_list - list of features to start with (column names of X)\n",
    "        threshold_in - include a feature if its p-value < threshold_in\n",
    "        threshold_out - exclude a feature if its p-value > threshold_out\n",
    "        verbose - whether to print the sequence of inclusions and exclusions\n",
    "    Returns: list of selected features\n",
    "    Always set threshold_in < threshold_out to avoid infinite looping.\n",
    "    See https://en.wikipedia.org/wiki/Stepwise_regression for the details\n",
    "    \"\"\"\n",
    "    included = list(initial_list)\n",
    "    while True:\n",
    "        changed = False\n",
    "        # forward step\n",
    "        # começamos pela lista de variaveis excluidas\n",
    "        excluded = list(set(X.columns) - set(included))\n",
    "        new_pval = pd.Series(index=excluded, dtype=np.float64)\n",
    "        # para que toda variavel excluida vá sendo incluida e o p-value armazenado\n",
    "        for new_column in excluded:\n",
    "            model = sm.OLS(y, sm.add_constant(pd.DataFrame(X[included + [new_column]]))).fit()\n",
    "            new_pval[new_column] = model.pvalues[new_column]\n",
    "        best_pval = new_pval.min()\n",
    "        if best_pval < threshold_in:\n",
    "            best_feature = new_pval.idxmin()\n",
    "            included.append(best_feature)\n",
    "            changed = True\n",
    "            if verbose:\n",
    "                print('Add  {:30} with p-value {:.6}'.format(best_feature, best_pval))\n",
    "\n",
    "        # backward step\n",
    "        # vai retirando as váriaveis menos significantes\n",
    "        model = sm.OLS(y, sm.add_constant(pd.DataFrame(X[included]))).fit()\n",
    "        pvalues = model.pvalues.iloc[1:]\n",
    "        worst_pval = pvalues.max()  # null if pvalues is empty\n",
    "        if worst_pval > threshold_out:\n",
    "            worst_feature = pvalues.idxmax()\n",
    "            included.remove(worst_feature)\n",
    "            changed = True\n",
    "            if verbose:\n",
    "                print('Drop {:30} with p-value {:.6}'.format(worst_feature, worst_pval))\n",
    "        if not changed:\n",
    "            break\n",
    "    return included\n",
    "\n",
    "# Executando a seleção stepwise\n",
    "variaveis = stepwise_selection(X, y)\n",
    "\n",
    "print('resulting features:')\n",
    "print(variaveis)\n",
    "\n",
    "\n"
   ]
  },
  {
   "cell_type": "code",
   "execution_count": 16,
   "metadata": {},
   "outputs": [
    {
     "name": "stdout",
     "output_type": "stream",
     "text": [
      "R² no conjunto de teste (árvore de regressão): -0.3436683029407537\n"
     ]
    }
   ],
   "source": [
    "from sklearn.tree import DecisionTreeRegressor\n",
    "from sklearn.metrics import r2_score\n",
    "from sklearn.model_selection import train_test_split\n",
    "\n",
    "# Dividir treino e teste\n",
    "X_train, X_test, y_train, y_test = train_test_split(\n",
    "    X, y, test_size=0.2, random_state=42\n",
    ")\n",
    "\n",
    "# Criar o modelo de árvore de regressão\n",
    "tree = DecisionTreeRegressor(random_state=42)\n",
    "\n",
    "# Ajustar o modelo\n",
    "tree.fit(X_train, y_train)\n",
    "\n",
    "# Previsões no teste\n",
    "y_pred = tree.predict(X_test)\n",
    "\n",
    "# Avaliar R²\n",
    "r2 = r2_score(y_test, y_pred)\n",
    "print(\"R² no conjunto de teste (árvore de regressão):\", r2)"
   ]
  },
  {
   "cell_type": "code",
   "execution_count": 17,
   "metadata": {},
   "outputs": [
    {
     "name": "stdout",
     "output_type": "stream",
     "text": [
      "R² no conjunto de teste (árvore de regressão): 0.225391704151523\n"
     ]
    }
   ],
   "source": [
    "tree = DecisionTreeRegressor(\n",
    "    max_depth=5,         # profundidade máxima\n",
    "    min_samples_leaf=5,  # mínimo de amostras em cada folha\n",
    "    random_state=42\n",
    ")\n",
    "# Ajustar o modelo\n",
    "tree.fit(X_train, y_train)\n",
    "\n",
    "# Previsões no teste\n",
    "y_pred = tree.predict(X_test)\n",
    "\n",
    "# Avaliar R²\n",
    "r2 = r2_score(y_test, y_pred)\n",
    "print(\"R² no conjunto de teste (árvore de regressão):\", r2)"
   ]
  },
  {
   "cell_type": "code",
   "execution_count": 18,
   "metadata": {},
   "outputs": [
    {
     "name": "stdout",
     "output_type": "stream",
     "text": [
      "Melhores hiperparâmetros da árvore: {'max_depth': 3, 'min_samples_leaf': 10, 'min_samples_split': 2}\n",
      "R² no conjunto de teste (árvore otimizada): 0.20544451123878138\n"
     ]
    }
   ],
   "source": [
    "from sklearn.tree import DecisionTreeRegressor\n",
    "from sklearn.model_selection import GridSearchCV, train_test_split\n",
    "from sklearn.metrics import r2_score\n",
    "\n",
    "# Dividir treino e teste\n",
    "X_train, X_test, y_train, y_test = train_test_split(\n",
    "    X, y, test_size=0.2, random_state=42\n",
    ")\n",
    "\n",
    "# Definir modelo base\n",
    "tree = DecisionTreeRegressor(random_state=42)\n",
    "\n",
    "# Definir grid de hiperparâmetros\n",
    "param_grid = {\n",
    "    'max_depth': [3, 5, 7, 10, None],\n",
    "    'min_samples_split': [2, 5, 10, 20],\n",
    "    'min_samples_leaf': [1, 3, 5, 10]\n",
    "}\n",
    "\n",
    "# GridSearch com 5-fold cross-validation\n",
    "grid_search = GridSearchCV(tree, param_grid, cv=5, scoring='r2', n_jobs=-1)\n",
    "grid_search.fit(X_train, y_train)\n",
    "\n",
    "# Melhor modelo\n",
    "best_tree = grid_search.best_estimator_\n",
    "\n",
    "# Previsões no teste\n",
    "y_pred = best_tree.predict(X_test)\n",
    "\n",
    "# Avaliar R²\n",
    "r2 = r2_score(y_test, y_pred)\n",
    "\n",
    "print(\"Melhores hiperparâmetros da árvore:\", grid_search.best_params_)\n",
    "print(\"R² no conjunto de teste (árvore otimizada):\", r2)\n"
   ]
  },
  {
   "cell_type": "code",
   "execution_count": 20,
   "metadata": {},
   "outputs": [
    {
     "name": "stdout",
     "output_type": "stream",
     "text": [
      "Mediana real da renda: 3217.48\n",
      "Mediana prevista pelo modelo: 4460.59\n",
      "Erro percentual da mediana: 38.64%\n",
      "\n",
      "--- RidgeCV ---\n",
      "Melhor alpha encontrado: 10.0\n",
      "R² no conjunto de teste: 0.2283\n"
     ]
    },
    {
     "data": {
      "image/png": "[encoded data removed]",
      "text/plain": [
       "<Figure size 800x600 with 1 Axes>"
      ]
     },
     "metadata": {},
     "output_type": "display_data"
    }
   ],
   "source": [
    "\n",
    "# 1. Comparar a mediana prevista vs real\n",
    "\n",
    "y_pred = best_tree.predict(X_test)\n",
    "\n",
    "mediana_real = np.median(y_test)\n",
    "mediana_prevista = np.median(y_pred)\n",
    "\n",
    "print(f\"Mediana real da renda: {mediana_real:.2f}\")\n",
    "print(f\"Mediana prevista pelo modelo: {mediana_prevista:.2f}\")\n",
    "print(f\"Erro percentual da mediana: {100 * (mediana_prevista - mediana_real) / mediana_real:.2f}%\")\n",
    "\n",
    "# 2. RidgeCV para melhor ajuste\n",
    "\n",
    "alphas = [0.01, 0.1, 1, 10, 100, 1000]\n",
    "\n",
    "ridge_cv = RidgeCV(alphas=alphas, cv=5)\n",
    "ridge_cv.fit(X_train, y_train)\n",
    "\n",
    "y_pred_ridge = ridge_cv.predict(X_test)\n",
    "r2_ridge = r2_score(y_test, y_pred_ridge)\n",
    "\n",
    "print(\"\\n--- RidgeCV ---\")\n",
    "print(f\"Melhor alpha encontrado: {ridge_cv.alpha_}\")\n",
    "print(f\"R² no conjunto de teste: {r2_ridge:.4f}\")\n",
    "\n",
    "\n",
    "# 3. Gráfico de valores reais vs previstos\n",
    "\n",
    "plt.figure(figsize=(8,6))\n",
    "plt.scatter(y_test, y_pred, alpha=0.5, label=\"Previsões\", color=\"royalblue\")\n",
    "plt.axhline(mediana_prevista, color=\"red\", linestyle=\"--\", label=\"Mediana prevista\")\n",
    "plt.axhline(mediana_real, color=\"green\", linestyle=\"--\", label=\"Mediana real\")\n",
    "plt.xlabel(\"Valores reais (R$)\")\n",
    "plt.ylabel(\"Valores previstos (R$)\")\n",
    "plt.title(\"Valores Reais vs. Previstos com Medianas\")\n",
    "plt.legend()\n",
    "plt.show()\n"
   ]
  },
  {
   "cell_type": "code",
   "execution_count": 21,
   "metadata": {},
   "outputs": [
    {
     "name": "stdout",
     "output_type": "stream",
     "text": [
      "Diferença percentual: 38.64%\n"
     ]
    }
   ],
   "source": [
    "diferenca_perc = (mediana_prevista - mediana_real) / mediana_real * 100\n",
    "print(f\"Diferença percentual: {diferenca_perc:.2f}%\")\n"
   ]
  },
  {
   "cell_type": "markdown",
   "metadata": {},
   "source": [
    "Conclusão do Projeto – Previsão de Renda\n",
    "\n",
    "A Regressão Ridge e a Lasso tiveram desempenhos semelhantes (R² ≈ 0,21), sem diferença prática relevante.\n",
    "\n",
    "O modelo Stepwise alcançou melhor resultado (R² ≈ 0,228), indicando boa seleção de variáveis.\n",
    "\n",
    "A Árvore de Regressão otimizada via GridSearchCV apresentou desempenho competitivo (R² ≈ 0,205), mas se destacou pela interpretação não linear.\n",
    "\n",
    "Comparando a mediana prevista vs real, a árvore conseguiu estimar valores próximos da mediana verdadeira da renda, validando sua robustez.\n",
    "\n",
    " Assim concluímos que, embora o Stepwise tenha tido ligeiro ganho em R², a Árvore de Regressão se mostra uma alternativa interessante por capturar relações não lineares e manter previsões consistentes em torno da mediana."
   ]
  }
 ],
 "metadata": {
  "kernelspec": {
   "display_name": "Python 3 (ipykernel)",
   "language": "python",
   "name": "python3"
  },
  "language_info": {
   "codemirror_mode": {
    "name": "ipython",
    "version": 3
   },
   "file_extension": ".py",
   "mimetype": "text/x-python",
   "name": "python",
   "nbconvert_exporter": "python",
   "pygments_lexer": "ipython3",
   "version": "3.11.7"
  }
 },
 "nbformat": 4,
 "nbformat_minor": 4
}
